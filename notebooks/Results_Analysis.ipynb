{
 "cells": [
  {
   "cell_type": "code",
   "execution_count": 1,
   "metadata": {
    "pycharm": {
     "name": "#%%\n"
    }
   },
   "outputs": [],
   "source": [
    "import pandas as pd\n",
    "from matplotlib.pyplot import figure\n",
    "import seaborn as sns\n",
    "import matplotlib.pyplot as plt\n",
    "import matplotlib\n",
    "\n",
    "import torch\n",
    "import optuna\n",
    "import torch_geometric.transforms as T\n",
    "from sklearn.neural_network import MLPClassifier \n",
    "from sklearn.linear_model import LogisticRegressionCV\n",
    "from sklearn.linear_model import LogisticRegression\n",
    "from sklearn.ensemble import GradientBoostingClassifier\n",
    "from torch_geometric.data import NeighborSampler\n",
    "from torch.optim import lr_scheduler\n",
    "import torch.optim as optim\n",
    "import collections\n",
    "import numpy as np\n",
    "from modules.model import Net\n",
    "from sklearn.metrics import f1_score\n",
    "from modules.sampling import Sampler, SamplerContextMatrix, SamplerRandomWalk,SamplerFactorization,SamplerAPP\n",
    "from datetime import datetime\n",
    "import random\n",
    "from torch_geometric.data import GraphSAINTNodeSampler\n",
    "import pickle\n",
    "import os\n",
    "from torch_geometric.data import Data\n",
    "import collections\n",
    "from torch_geometric.datasets import Planetoid,WikipediaNetwork,Actor,WebKB"
   ]
  },
  {
   "cell_type": "code",
   "execution_count": 2,
   "metadata": {
    "pycharm": {
     "name": "#%%\n"
    }
   },
   "outputs": [],
   "source": [
    "import pandas as pd\n",
    "import collections\n",
    "import matplotlib\n",
    "import matplotlib.pyplot as plt\n",
    "import seaborn as sns\n"
   ]
  },
  {
   "cell_type": "code",
   "execution_count": 17,
   "outputs": [],
   "source": [
    "analysis = pd.read_csv('../results/final_data.csv')\n",
    "analysis = analysis.drop(columns='Unnamed: 0')"
   ],
   "metadata": {
    "collapsed": false,
    "pycharm": {
     "name": "#%%\n"
    }
   }
  },
  {
   "cell_type": "code",
   "execution_count": 4,
   "outputs": [],
   "source": [
    "supervised = pd.read_csv('../results/supervised.csv')\n",
    "supervised = supervised.drop(columns='Unnamed: 0')"
   ],
   "metadata": {
    "collapsed": false,
    "pycharm": {
     "name": "#%%\n"
    }
   }
  },
  {
   "cell_type": "code",
   "execution_count": 5,
   "outputs": [],
   "source": [
    "supervised = supervised[supervised['conv']=='GCN']"
   ],
   "metadata": {
    "collapsed": false,
    "pycharm": {
     "name": "#%%\n"
    }
   }
  },
  {
   "cell_type": "code",
   "execution_count": 6,
   "outputs": [],
   "source": [
    "supervised['loss']=['no']*len(supervised)"
   ],
   "metadata": {
    "collapsed": false,
    "pycharm": {
     "name": "#%%\n"
    }
   }
  },
  {
   "cell_type": "code",
   "execution_count": 7,
   "outputs": [],
   "source": [
    "datasets = supervised['dataset'].tolist()"
   ],
   "metadata": {
    "collapsed": false,
    "pycharm": {
     "name": "#%%\n"
    }
   }
  },
  {
   "cell_type": "code",
   "execution_count": 8,
   "outputs": [],
   "source": [
    "sup_GCN = supervised['test acc micro'].tolist()"
   ],
   "metadata": {
    "collapsed": false,
    "pycharm": {
     "name": "#%%\n"
    }
   }
  },
  {
   "cell_type": "code",
   "execution_count": 9,
   "outputs": [],
   "source": [
    "unsup_GCN=[]\n",
    "features_GCN=[]"
   ],
   "metadata": {
    "collapsed": false,
    "pycharm": {
     "name": "#%%\n"
    }
   }
  },
  {
   "cell_type": "code",
   "execution_count": 13,
   "outputs": [],
   "source": [
    "analysis_GCN=analysis[analysis['conv']=='GCN']\n",
    "#analysis_GCN=analysis_GCN.groupby(['dataset']).max()['test acc micro'].reset_index()"
   ],
   "metadata": {
    "collapsed": false,
    "pycharm": {
     "name": "#%%\n"
    }
   }
  },
  {
   "cell_type": "code",
   "execution_count": 36,
   "outputs": [
    {
     "data": {
      "text/plain": "           loss conv       dataset  train acc micro  test acc micro  \\\n182   HOPE_Katz  GCN   0.10.10.225         0.697575        0.155779   \n185   HOPE_Katz  GCN  0.10.10.2220         0.560628        0.195980   \n188   HOPE_Katz  GCN  0.10.10.2240         0.383738        0.130653   \n191   HOPE_Katz  GCN   0.10.10.232         0.342368        0.065327   \n194   HOPE_Katz  GCN   0.10.10.235         0.753210        0.105528   \n...         ...  ...           ...              ...             ...   \n7811  Force2Vec  GCN  0.90.90.5220         0.893010        0.974874   \n7814  Force2Vec  GCN  0.90.90.5240         0.985735        0.984925   \n7817  Force2Vec  GCN   0.90.90.535         0.399429        0.296482   \n7820  Force2Vec  GCN  0.90.90.5320         0.659058        0.256281   \n7823  Force2Vec  GCN   0.90.90.545         0.413695        0.281407   \n\n      train acc macro  test acc macro  label assortativity  \\\n182          0.696474        0.152992                  0.1   \n185          0.561337        0.196158                  0.1   \n188          0.380888        0.126792                  0.1   \n191          0.341791        0.062845                  0.1   \n194          0.754964        0.098829                  0.1   \n...               ...             ...                  ...   \n7811         0.885376        0.974950                  0.9   \n7814         0.985765        0.984968                  0.9   \n7817         0.398983        0.268423                  0.9   \n7820         0.665771        0.259185                  0.9   \n7823         0.413026        0.277476                  0.9   \n\n      feature assortativity  cluster coefficient  average shortest path  \\\n182                     0.1                  0.2                    2.0   \n185                     0.1                  0.2                    2.0   \n188                     0.1                  0.2                    2.0   \n191                     0.1                  0.2                    3.0   \n194                     0.1                  0.2                    3.0   \n...                     ...                  ...                    ...   \n7811                    0.9                  0.5                    2.0   \n7814                    0.9                  0.5                    2.0   \n7817                    0.9                  0.5                    3.0   \n7820                    0.9                  0.5                    3.0   \n7823                    0.9                  0.5                    4.0   \n\n      average degree group  \n182              5.0   1.0  \n185             20.0   1.0  \n188             40.0   1.0  \n191              2.0   1.0  \n194              5.0   1.0  \n...              ...   ...  \n7811            20.0   5.0  \n7814            40.0   5.0  \n7817             5.0   5.0  \n7820            20.0   5.0  \n7823             5.0   5.0  \n\n[2548 rows x 13 columns]",
      "text/html": "<div>\n<style scoped>\n    .dataframe tbody tr th:only-of-type {\n        vertical-align: middle;\n    }\n\n    .dataframe tbody tr th {\n        vertical-align: top;\n    }\n\n    .dataframe thead th {\n        text-align: right;\n    }\n</style>\n<table border=\"1\" class=\"dataframe\">\n  <thead>\n    <tr style=\"text-align: right;\">\n      <th></th>\n      <th>loss</th>\n      <th>conv</th>\n      <th>dataset</th>\n      <th>train acc micro</th>\n      <th>test acc micro</th>\n      <th>train acc macro</th>\n      <th>test acc macro</th>\n      <th>label assortativity</th>\n      <th>feature assortativity</th>\n      <th>cluster coefficient</th>\n      <th>average shortest path</th>\n      <th>average degree</th>\n      <th>group</th>\n    </tr>\n  </thead>\n  <tbody>\n    <tr>\n      <th>182</th>\n      <td>HOPE_Katz</td>\n      <td>GCN</td>\n      <td>0.10.10.225</td>\n      <td>0.697575</td>\n      <td>0.155779</td>\n      <td>0.696474</td>\n      <td>0.152992</td>\n      <td>0.1</td>\n      <td>0.1</td>\n      <td>0.2</td>\n      <td>2.0</td>\n      <td>5.0</td>\n      <td>1.0</td>\n    </tr>\n    <tr>\n      <th>185</th>\n      <td>HOPE_Katz</td>\n      <td>GCN</td>\n      <td>0.10.10.2220</td>\n      <td>0.560628</td>\n      <td>0.195980</td>\n      <td>0.561337</td>\n      <td>0.196158</td>\n      <td>0.1</td>\n      <td>0.1</td>\n      <td>0.2</td>\n      <td>2.0</td>\n      <td>20.0</td>\n      <td>1.0</td>\n    </tr>\n    <tr>\n      <th>188</th>\n      <td>HOPE_Katz</td>\n      <td>GCN</td>\n      <td>0.10.10.2240</td>\n      <td>0.383738</td>\n      <td>0.130653</td>\n      <td>0.380888</td>\n      <td>0.126792</td>\n      <td>0.1</td>\n      <td>0.1</td>\n      <td>0.2</td>\n      <td>2.0</td>\n      <td>40.0</td>\n      <td>1.0</td>\n    </tr>\n    <tr>\n      <th>191</th>\n      <td>HOPE_Katz</td>\n      <td>GCN</td>\n      <td>0.10.10.232</td>\n      <td>0.342368</td>\n      <td>0.065327</td>\n      <td>0.341791</td>\n      <td>0.062845</td>\n      <td>0.1</td>\n      <td>0.1</td>\n      <td>0.2</td>\n      <td>3.0</td>\n      <td>2.0</td>\n      <td>1.0</td>\n    </tr>\n    <tr>\n      <th>194</th>\n      <td>HOPE_Katz</td>\n      <td>GCN</td>\n      <td>0.10.10.235</td>\n      <td>0.753210</td>\n      <td>0.105528</td>\n      <td>0.754964</td>\n      <td>0.098829</td>\n      <td>0.1</td>\n      <td>0.1</td>\n      <td>0.2</td>\n      <td>3.0</td>\n      <td>5.0</td>\n      <td>1.0</td>\n    </tr>\n    <tr>\n      <th>...</th>\n      <td>...</td>\n      <td>...</td>\n      <td>...</td>\n      <td>...</td>\n      <td>...</td>\n      <td>...</td>\n      <td>...</td>\n      <td>...</td>\n      <td>...</td>\n      <td>...</td>\n      <td>...</td>\n      <td>...</td>\n      <td>...</td>\n    </tr>\n    <tr>\n      <th>7811</th>\n      <td>Force2Vec</td>\n      <td>GCN</td>\n      <td>0.90.90.5220</td>\n      <td>0.893010</td>\n      <td>0.974874</td>\n      <td>0.885376</td>\n      <td>0.974950</td>\n      <td>0.9</td>\n      <td>0.9</td>\n      <td>0.5</td>\n      <td>2.0</td>\n      <td>20.0</td>\n      <td>5.0</td>\n    </tr>\n    <tr>\n      <th>7814</th>\n      <td>Force2Vec</td>\n      <td>GCN</td>\n      <td>0.90.90.5240</td>\n      <td>0.985735</td>\n      <td>0.984925</td>\n      <td>0.985765</td>\n      <td>0.984968</td>\n      <td>0.9</td>\n      <td>0.9</td>\n      <td>0.5</td>\n      <td>2.0</td>\n      <td>40.0</td>\n      <td>5.0</td>\n    </tr>\n    <tr>\n      <th>7817</th>\n      <td>Force2Vec</td>\n      <td>GCN</td>\n      <td>0.90.90.535</td>\n      <td>0.399429</td>\n      <td>0.296482</td>\n      <td>0.398983</td>\n      <td>0.268423</td>\n      <td>0.9</td>\n      <td>0.9</td>\n      <td>0.5</td>\n      <td>3.0</td>\n      <td>5.0</td>\n      <td>5.0</td>\n    </tr>\n    <tr>\n      <th>7820</th>\n      <td>Force2Vec</td>\n      <td>GCN</td>\n      <td>0.90.90.5320</td>\n      <td>0.659058</td>\n      <td>0.256281</td>\n      <td>0.665771</td>\n      <td>0.259185</td>\n      <td>0.9</td>\n      <td>0.9</td>\n      <td>0.5</td>\n      <td>3.0</td>\n      <td>20.0</td>\n      <td>5.0</td>\n    </tr>\n    <tr>\n      <th>7823</th>\n      <td>Force2Vec</td>\n      <td>GCN</td>\n      <td>0.90.90.545</td>\n      <td>0.413695</td>\n      <td>0.281407</td>\n      <td>0.413026</td>\n      <td>0.277476</td>\n      <td>0.9</td>\n      <td>0.9</td>\n      <td>0.5</td>\n      <td>4.0</td>\n      <td>5.0</td>\n      <td>5.0</td>\n    </tr>\n  </tbody>\n</table>\n<p>2548 rows × 13 columns</p>\n</div>"
     },
     "execution_count": 36,
     "metadata": {},
     "output_type": "execute_result"
    }
   ],
   "source": [
    "analysis_GCN\n"
   ],
   "metadata": {
    "collapsed": false,
    "pycharm": {
     "name": "#%%\n"
    }
   }
  },
  {
   "cell_type": "code",
   "execution_count": 57,
   "outputs": [],
   "source": [
    "new_analysis = pd.DataFrame(columns=analysis_GCN.columns)\n",
    "\n",
    "for dataset in supervised['dataset'].tolist():\n",
    "    if len(analysis_GCN[analysis_GCN['dataset']==dataset])>0:\n",
    "        analysis_df = analysis_GCN[analysis_GCN['dataset']==dataset].reset_index()\n",
    "        analysis_df['test acc micro']=analysis_df['test acc micro'].apply(lambda x: x - supervised[supervised['dataset'] == dataset]['test acc micro'].values[0])\n",
    "        new_analysis = new_analysis.append(analysis_df)"
   ],
   "metadata": {
    "collapsed": false,
    "pycharm": {
     "name": "#%%\n"
    }
   }
  },
  {
   "cell_type": "code",
   "execution_count": 102,
   "outputs": [],
   "source": [
    "dfs=[]\n",
    "for feature in ['average degree', 'average shortest path','cluster coefficient','feature assortativity','label assortativity']:\n",
    "    df = new_analysis[['loss','test acc micro',feature]]\n",
    "\n",
    "    df=df.groupby(by=['loss',feature]).mean()\n",
    "    df = df.unstack(feature)\n",
    "    df['newlevel'] = feature\n",
    "    df=df.set_index('newlevel', append=True).unstack('newlevel')\n",
    "\n",
    "    if feature == 'average degree':\n",
    "        df=df.sort_values(by=[('test acc micro', 5.0, 'average degree')],ascending=False)\n",
    "        index_order = df.index.tolist()\n",
    "    #print(df)\n",
    "    df=df.reindex(index_order)\n",
    "    dfs.append(df)\n"
   ],
   "metadata": {
    "collapsed": false,
    "pycharm": {
     "name": "#%%\n"
    }
   }
  },
  {
   "cell_type": "code",
   "execution_count": 103,
   "outputs": [],
   "source": [
    "data_to_heatmap = pd.concat(dfs, axis=1)"
   ],
   "metadata": {
    "collapsed": false,
    "pycharm": {
     "name": "#%%\n"
    }
   }
  },
  {
   "cell_type": "code",
   "execution_count": 79,
   "outputs": [],
   "source": [],
   "metadata": {
    "collapsed": false,
    "pycharm": {
     "name": "#%%\n"
    }
   }
  },
  {
   "cell_type": "code",
   "execution_count": 105,
   "outputs": [
    {
     "data": {
      "text/plain": "<AxesSubplot:xlabel='None-average degree-newlevel', ylabel='loss'>"
     },
     "execution_count": 105,
     "metadata": {},
     "output_type": "execute_result"
    },
    {
     "data": {
      "text/plain": "<Figure size 640x480 with 2 Axes>",
      "image/png": "[encoded data removed]"
     },
     "metadata": {},
     "output_type": "display_data"
    }
   ],
   "source": [
    "sns.heatmap(data_to_heatmap,cmap='YlGn')"
   ],
   "metadata": {
    "collapsed": false,
    "pycharm": {
     "name": "#%%\n"
    }
   }
  },
  {
   "cell_type": "code",
   "execution_count": 19,
   "outputs": [
    {
     "data": {
      "text/plain": "           loss conv       dataset  train acc micro  test acc micro  \\\n182   HOPE_Katz  GCN   0.10.10.225         0.697575        0.155779   \n185   HOPE_Katz  GCN  0.10.10.2220         0.560628        0.195980   \n188   HOPE_Katz  GCN  0.10.10.2240         0.383738        0.130653   \n191   HOPE_Katz  GCN   0.10.10.232         0.342368        0.065327   \n194   HOPE_Katz  GCN   0.10.10.235         0.753210        0.105528   \n...         ...  ...           ...              ...             ...   \n7811  Force2Vec  GCN  0.90.90.5220         0.893010        0.974874   \n7814  Force2Vec  GCN  0.90.90.5240         0.985735        0.984925   \n7817  Force2Vec  GCN   0.90.90.535         0.399429        0.296482   \n7820  Force2Vec  GCN  0.90.90.5320         0.659058        0.256281   \n7823  Force2Vec  GCN   0.90.90.545         0.413695        0.281407   \n\n      train acc macro  test acc macro  label assortativity  \\\n182          0.696474        0.152992                  0.1   \n185          0.561337        0.196158                  0.1   \n188          0.380888        0.126792                  0.1   \n191          0.341791        0.062845                  0.1   \n194          0.754964        0.098829                  0.1   \n...               ...             ...                  ...   \n7811         0.885376        0.974950                  0.9   \n7814         0.985765        0.984968                  0.9   \n7817         0.398983        0.268423                  0.9   \n7820         0.665771        0.259185                  0.9   \n7823         0.413026        0.277476                  0.9   \n\n      feature assortativity  cluster coefficient  average shortest path  \\\n182                     0.1                  0.2                    2.0   \n185                     0.1                  0.2                    2.0   \n188                     0.1                  0.2                    2.0   \n191                     0.1                  0.2                    3.0   \n194                     0.1                  0.2                    3.0   \n...                     ...                  ...                    ...   \n7811                    0.9                  0.5                    2.0   \n7814                    0.9                  0.5                    2.0   \n7817                    0.9                  0.5                    3.0   \n7820                    0.9                  0.5                    3.0   \n7823                    0.9                  0.5                    4.0   \n\n      average degree group  \n182              5.0   1.0  \n185             20.0   1.0  \n188             40.0   1.0  \n191              2.0   1.0  \n194              5.0   1.0  \n...              ...   ...  \n7811            20.0   5.0  \n7814            40.0   5.0  \n7817             5.0   5.0  \n7820            20.0   5.0  \n7823             5.0   5.0  \n\n[2548 rows x 13 columns]",
      "text/html": "<div>\n<style scoped>\n    .dataframe tbody tr th:only-of-type {\n        vertical-align: middle;\n    }\n\n    .dataframe tbody tr th {\n        vertical-align: top;\n    }\n\n    .dataframe thead th {\n        text-align: right;\n    }\n</style>\n<table border=\"1\" class=\"dataframe\">\n  <thead>\n    <tr style=\"text-align: right;\">\n      <th></th>\n      <th>loss</th>\n      <th>conv</th>\n      <th>dataset</th>\n      <th>train acc micro</th>\n      <th>test acc micro</th>\n      <th>train acc macro</th>\n      <th>test acc macro</th>\n      <th>label assortativity</th>\n      <th>feature assortativity</th>\n      <th>cluster coefficient</th>\n      <th>average shortest path</th>\n      <th>average degree</th>\n      <th>group</th>\n    </tr>\n  </thead>\n  <tbody>\n    <tr>\n      <th>182</th>\n      <td>HOPE_Katz</td>\n      <td>GCN</td>\n      <td>0.10.10.225</td>\n      <td>0.697575</td>\n      <td>0.155779</td>\n      <td>0.696474</td>\n      <td>0.152992</td>\n      <td>0.1</td>\n      <td>0.1</td>\n      <td>0.2</td>\n      <td>2.0</td>\n      <td>5.0</td>\n      <td>1.0</td>\n    </tr>\n    <tr>\n      <th>185</th>\n      <td>HOPE_Katz</td>\n      <td>GCN</td>\n      <td>0.10.10.2220</td>\n      <td>0.560628</td>\n      <td>0.195980</td>\n      <td>0.561337</td>\n      <td>0.196158</td>\n      <td>0.1</td>\n      <td>0.1</td>\n      <td>0.2</td>\n      <td>2.0</td>\n      <td>20.0</td>\n      <td>1.0</td>\n    </tr>\n    <tr>\n      <th>188</th>\n      <td>HOPE_Katz</td>\n      <td>GCN</td>\n      <td>0.10.10.2240</td>\n      <td>0.383738</td>\n      <td>0.130653</td>\n      <td>0.380888</td>\n      <td>0.126792</td>\n      <td>0.1</td>\n      <td>0.1</td>\n      <td>0.2</td>\n      <td>2.0</td>\n      <td>40.0</td>\n      <td>1.0</td>\n    </tr>\n    <tr>\n      <th>191</th>\n      <td>HOPE_Katz</td>\n      <td>GCN</td>\n      <td>0.10.10.232</td>\n      <td>0.342368</td>\n      <td>0.065327</td>\n      <td>0.341791</td>\n      <td>0.062845</td>\n      <td>0.1</td>\n      <td>0.1</td>\n      <td>0.2</td>\n      <td>3.0</td>\n      <td>2.0</td>\n      <td>1.0</td>\n    </tr>\n    <tr>\n      <th>194</th>\n      <td>HOPE_Katz</td>\n      <td>GCN</td>\n      <td>0.10.10.235</td>\n      <td>0.753210</td>\n      <td>0.105528</td>\n      <td>0.754964</td>\n      <td>0.098829</td>\n      <td>0.1</td>\n      <td>0.1</td>\n      <td>0.2</td>\n      <td>3.0</td>\n      <td>5.0</td>\n      <td>1.0</td>\n    </tr>\n    <tr>\n      <th>...</th>\n      <td>...</td>\n      <td>...</td>\n      <td>...</td>\n      <td>...</td>\n      <td>...</td>\n      <td>...</td>\n      <td>...</td>\n      <td>...</td>\n      <td>...</td>\n      <td>...</td>\n      <td>...</td>\n      <td>...</td>\n      <td>...</td>\n    </tr>\n    <tr>\n      <th>7811</th>\n      <td>Force2Vec</td>\n      <td>GCN</td>\n      <td>0.90.90.5220</td>\n      <td>0.893010</td>\n      <td>0.974874</td>\n      <td>0.885376</td>\n      <td>0.974950</td>\n      <td>0.9</td>\n      <td>0.9</td>\n      <td>0.5</td>\n      <td>2.0</td>\n      <td>20.0</td>\n      <td>5.0</td>\n    </tr>\n    <tr>\n      <th>7814</th>\n      <td>Force2Vec</td>\n      <td>GCN</td>\n      <td>0.90.90.5240</td>\n      <td>0.985735</td>\n      <td>0.984925</td>\n      <td>0.985765</td>\n      <td>0.984968</td>\n      <td>0.9</td>\n      <td>0.9</td>\n      <td>0.5</td>\n      <td>2.0</td>\n      <td>40.0</td>\n      <td>5.0</td>\n    </tr>\n    <tr>\n      <th>7817</th>\n      <td>Force2Vec</td>\n      <td>GCN</td>\n      <td>0.90.90.535</td>\n      <td>0.399429</td>\n      <td>0.296482</td>\n      <td>0.398983</td>\n      <td>0.268423</td>\n      <td>0.9</td>\n      <td>0.9</td>\n      <td>0.5</td>\n      <td>3.0</td>\n      <td>5.0</td>\n      <td>5.0</td>\n    </tr>\n    <tr>\n      <th>7820</th>\n      <td>Force2Vec</td>\n      <td>GCN</td>\n      <td>0.90.90.5320</td>\n      <td>0.659058</td>\n      <td>0.256281</td>\n      <td>0.665771</td>\n      <td>0.259185</td>\n      <td>0.9</td>\n      <td>0.9</td>\n      <td>0.5</td>\n      <td>3.0</td>\n      <td>20.0</td>\n      <td>5.0</td>\n    </tr>\n    <tr>\n      <th>7823</th>\n      <td>Force2Vec</td>\n      <td>GCN</td>\n      <td>0.90.90.545</td>\n      <td>0.413695</td>\n      <td>0.281407</td>\n      <td>0.413026</td>\n      <td>0.277476</td>\n      <td>0.9</td>\n      <td>0.9</td>\n      <td>0.5</td>\n      <td>4.0</td>\n      <td>5.0</td>\n      <td>5.0</td>\n    </tr>\n  </tbody>\n</table>\n<p>2548 rows × 13 columns</p>\n</div>"
     },
     "execution_count": 19,
     "metadata": {},
     "output_type": "execute_result"
    }
   ],
   "source": [
    "analysis_GCN"
   ],
   "metadata": {
    "collapsed": false,
    "pycharm": {
     "name": "#%%\n"
    }
   }
  },
  {
   "cell_type": "code",
   "execution_count": null,
   "outputs": [],
   "source": [],
   "metadata": {
    "collapsed": false,
    "pycharm": {
     "name": "#%%\n"
    }
   }
  },
  {
   "cell_type": "code",
   "execution_count": 12,
   "outputs": [
    {
     "name": "stdout",
     "output_type": "stream",
     "text": [
      "unsup 0.10.90.2535\n",
      "0.10.90.2535\n"
     ]
    },
    {
     "data": {
      "text/plain": "[0.0904522613065326,\n 0.0452261306532663,\n 0.0402010050251256,\n 0.0603015075376884,\n 0.0703517587939698,\n 0.1105527638190954,\n 0.0703517587939698,\n 0.1105527638190954,\n 0.0653266331658291,\n 0.050251256281407,\n 0.0452261306532663,\n 0.1055276381909547,\n 0.0452261306532663,\n 0.1055276381909547,\n 0.0552763819095477,\n 0.0653266331658291,\n 0.0954773869346733,\n 0.0603015075376884,\n 0.0804020100502512,\n 0.0603015075376884,\n 0.0904522613065326,\n 0.1758793969849246,\n 0.0703517587939698,\n 0.0452261306532663,\n 0.0804020100502512,\n 0.1105527638190954,\n 0.0954773869346733,\n 0.1105527638190954,\n 0.0703517587939698,\n 0.0703517587939698,\n 0.0703517587939698,\n 0.0703517587939698,\n 0.100502512562814,\n 0.1608040201005025,\n 0.1105527638190954,\n 0.1256281407035175,\n 0.0854271356783919,\n 0.0402010050251256,\n 0.0753768844221105,\n 0.1256281407035175,\n 0.0653266331658291,\n 0.1155778894472361,\n 0.2060301507537688,\n 0.2311557788944723,\n 0.2562814070351759,\n 0.5226130653266332,\n 0.4824120603015075,\n 0.3668341708542713,\n 0.2211055276381909,\n 0.2211055276381909,\n 0.3417085427135678,\n 0.9195979899497488,\n 0.8090452261306531,\n 0.3467336683417085,\n 0.5226130653266332,\n 0.2160804020100502,\n 0.271356783919598,\n 0.2462311557788944,\n 0.236180904522613,\n 0.2010050251256281,\n 0.2010050251256281,\n 0.2010050251256281,\n 0.2010050251256281,\n 0.2010050251256281,\n 0.271356783919598,\n 0.4924623115577889,\n 0.271356783919598,\n 0.3919597989949748,\n 0.4623115577889447,\n 0.4874371859296482,\n 0.4673366834170854,\n 0.4974874371859296,\n 0.2160804020100502,\n 0.4673366834170854,\n 0.7889447236180903,\n 1.0,\n 1.0,\n 0.4974874371859296,\n 0.507537688442211,\n 0.7286432160804021,\n 0.5025125628140703,\n 0.4824120603015075,\n 0.321608040201005,\n 0.321608040201005,\n 0.321608040201005,\n 0.321608040201005,\n 0.321608040201005,\n 0.321608040201005,\n 0.3618090452261306,\n 0.2110552763819095,\n 0.3115577889447236,\n 0.2663316582914573,\n 0.2814070351758794,\n 0.2462311557788944,\n 0.2763819095477386,\n 0.2160804020100502,\n 0.4773869346733668,\n 0.185929648241206,\n 0.9949748743718592,\n 0.9949748743718592,\n 0.2562814070351759,\n 0.4020100502512563,\n 1.0,\n 0.2562814070351759,\n 0.8140703517587939,\n 0.321608040201005,\n 0.321608040201005,\n 0.321608040201005,\n 0.321608040201005,\n 0.321608040201005,\n 0.321608040201005,\n 0.4020100502512563,\n 0.4371859296482412,\n 0.5276381909547738,\n 0.3618090452261306,\n 0.4522613065326633,\n 0.4522613065326633,\n 0.4472361809045226,\n 0.4874371859296482,\n 0.4120603015075377,\n 0.4321608040201005,\n 0.8492462311557789,\n 0.9698492462311558,\n 1.0,\n 0.5628140703517588,\n 1.0,\n 1.0,\n 0.6432160804020101,\n 0.9949748743718592,\n 1.0,\n 1.0,\n 1.0,\n 1.0,\n 1.0,\n 0.4221105527638191,\n 0.4924623115577889,\n 0.4773869346733668,\n 0.4773869346733668,\n 0.4673366834170854,\n 0.3668341708542713,\n 0.4422110552763819,\n 0.4874371859296482,\n 0.457286432160804,\n 0.2562814070351759,\n 1.0,\n 1.0,\n 1.0,\n 1.0,\n 1.0,\n 1.0,\n 1.0,\n 0.9346733668341708,\n 1.0,\n 1.0,\n 1.0,\n 0.9296482412060302,\n 1.0,\n 1.0,\n 0.4824120603015075,\n 0.4623115577889447,\n 0.4271356783919598,\n 0.4271356783919598,\n 0.457286432160804,\n 0.4221105527638191,\n 0.4020100502512563,\n 0.4824120603015075,\n 0.3768844221105528,\n 0.6532663316582915,\n 0.9547738693467336,\n 1.0,\n 1.0,\n 0.7336683417085426,\n 0.7135678391959799,\n 0.984924623115578,\n 0.9949748743718592,\n 1.0,\n 1.0,\n 1.0,\n 1.0,\n 0.321608040201005,\n 0.1256281407035175,\n 0.2613065326633166]"
     },
     "execution_count": 12,
     "metadata": {},
     "output_type": "execute_result"
    }
   ],
   "source": [
    "features_GCN=[]\n",
    "unsup_GCN=[]\n",
    "\n",
    "\n",
    "for k,dat in enumerate(datasets):\n",
    "    value_array = analysis_GCN[analysis_GCN['dataset'] == dat]['test acc micro'].values\n",
    "    if len(value_array)==0:\n",
    "        print('unsup',dat)\n",
    "        l=k\n",
    "    else:\n",
    "        unsup_GCN.append(value_array.tolist()[0])\n",
    "    #if len(analysis[(analysis['conv']=='features')&(analysis['dataset']==dat)]['test acc micro'])>0:\n",
    "#    print(dat)\n",
    " #   print(analysis[(analysis['loss']=='features')&(analysis['dataset']==dat)]['test acc micro'])\n",
    "    value_array = analysis[(analysis['loss']=='features')&(analysis['dataset']==dat)]['test acc micro'].values\n",
    "    if len(value_array)==0:\n",
    "        print(dat)\n",
    "    else:\n",
    "       features_GCN.append(value_array.tolist()[0])\n",
    "features_GCN"
   ],
   "metadata": {
    "collapsed": false,
    "pycharm": {
     "name": "#%%\n"
    }
   }
  },
  {
   "cell_type": "code",
   "execution_count": 102,
   "outputs": [],
   "source": [
    "sup_GCN=sup_GCN[:l]+sup_GCN[l+1:]"
   ],
   "metadata": {
    "collapsed": false,
    "pycharm": {
     "name": "#%%\n"
    }
   }
  },
  {
   "cell_type": "code",
   "execution_count": 103,
   "outputs": [],
   "source": [
    "indices = torch.tensor(features_GCN).argsort(descending=False)"
   ],
   "metadata": {
    "collapsed": false,
    "pycharm": {
     "name": "#%%\n"
    }
   }
  },
  {
   "cell_type": "code",
   "execution_count": 104,
   "outputs": [],
   "source": [
    "sup_GCN_torch=torch.tensor(sup_GCN)[indices].tolist()\n",
    "unsup_GCN_torch=torch.tensor(unsup_GCN)[indices].tolist()\n",
    "features_GCN_torch=torch.tensor(features_GCN)[indices].tolist()"
   ],
   "metadata": {
    "collapsed": false,
    "pycharm": {
     "name": "#%%\n"
    }
   }
  },
  {
   "cell_type": "code",
   "execution_count": 112,
   "outputs": [
    {
     "data": {
      "text/plain": "<matplotlib.legend.Legend at 0x12685e5a208>"
     },
     "execution_count": 112,
     "metadata": {},
     "output_type": "execute_result"
    },
    {
     "data": {
      "text/plain": "<Figure size 640x480 with 1 Axes>",
      "image/png": "[encoded data removed]"
     },
     "metadata": {},
     "output_type": "display_data"
    }
   ],
   "source": [
    "import matplotlib.pyplot as plt\n",
    "#ig = px.line(gcn_x)\n",
    "plt.plot(features_GCN_torch,label='clf on features')\n",
    "plt.plot(sup_GCN_torch,label='supervised GCN')\n",
    "plt.plot(unsup_GCN_torch,label='unsupervised GCN')\n",
    "plt.legend()"
   ],
   "metadata": {
    "collapsed": false,
    "pycharm": {
     "name": "#%%\n"
    }
   }
  },
  {
   "cell_type": "code",
   "execution_count": 114,
   "outputs": [
    {
     "data": {
      "text/plain": "<matplotlib.legend.Legend at 0x12687fec2c8>"
     },
     "execution_count": 114,
     "metadata": {},
     "output_type": "execute_result"
    },
    {
     "data": {
      "text/plain": "<Figure size 640x480 with 1 Axes>",
      "image/png": "[encoded data removed]"
     },
     "metadata": {},
     "output_type": "display_data"
    }
   ],
   "source": [
    "import matplotlib.pyplot as plt\n",
    "#ig = px.line(gcn_x)\n",
    "plt.plot(np.array(unsup_GCN_torch)-np.array(sup_GCN_torch),label='unsupervised profit')\n",
    "plt.legend()"
   ],
   "metadata": {
    "collapsed": false,
    "pycharm": {
     "name": "#%%\n"
    }
   }
  },
  {
   "cell_type": "code",
   "execution_count": null,
   "metadata": {
    "pycharm": {
     "name": "#%%\n"
    }
   },
   "outputs": [],
   "source": [
    "#список функций потерь и характеристик графа\n",
    "df=pd.read_csv('../results/final_data.csv')\n",
    "df=df.drop(columns=['Unnamed: 0'])\n",
    "losses=list(dict(collections.Counter(df['loss'])).keys())\n",
    "\n",
    "attrs=['label assortativity', 'feature assortativity', 'cluster coefficient', 'average shortest path', 'average degree']\n"
   ]
  },
  {
   "cell_type": "code",
   "execution_count": null,
   "outputs": [],
   "source": [
    "df_1 = df.groupby(['conv','dataset']).mean()\n",
    "df_1=df_1.reset_index()"
   ],
   "metadata": {
    "collapsed": false,
    "pycharm": {
     "name": "#%%\n"
    }
   }
  },
  {
   "cell_type": "code",
   "execution_count": null,
   "outputs": [],
   "source": [
    "gat_test = df_1[df_1['conv']=='GAT']['test acc micro'].tolist()\n",
    "gcn_test = df_1[df_1['conv']=='GCN']['test acc micro'].tolist()\n",
    "sage_test = df_1[df_1['conv']=='SAGE']['test acc micro'].tolist()\n",
    "no_test = df_1[df_1['conv']=='no']['test acc micro'].tolist()"
   ],
   "metadata": {
    "collapsed": false,
    "pycharm": {
     "name": "#%%\n"
    }
   }
  },
  {
   "cell_type": "code",
   "execution_count": null,
   "outputs": [],
   "source": [
    "indices = torch.tensor(no_test).argsort(descending=False)"
   ],
   "metadata": {
    "collapsed": false,
    "pycharm": {
     "name": "#%%\n"
    }
   }
  },
  {
   "cell_type": "code",
   "execution_count": null,
   "outputs": [],
   "source": [
    "sage_x=torch.tensor(sage_test)[indices].tolist()\n",
    "gcn_x=torch.tensor(gcn_test)[indices].tolist()\n",
    "gat_x=torch.tensor(gat_test)[indices].tolist()\n",
    "no_x=torch.tensor(no_test)[indices].tolist()"
   ],
   "metadata": {
    "collapsed": false,
    "pycharm": {
     "name": "#%%\n"
    }
   }
  },
  {
   "cell_type": "code",
   "execution_count": null,
   "outputs": [],
   "source": [],
   "metadata": {
    "collapsed": false,
    "pycharm": {
     "name": "#%%\n"
    }
   }
  },
  {
   "cell_type": "code",
   "execution_count": null,
   "outputs": [],
   "source": [
    "import plotly.express as px\n",
    "import plotly.graph_objects as go\n",
    "#ig = px.line(gcn_x)\n",
    "fig = go.Figure()\n",
    "fig.add_trace(go.Scatter(x=no_x,\n",
    "                    mode='markers',\n",
    "                    name='clf on features', marker =dict(size = 5, color = 'orange')))\n",
    "\n",
    "fig.add_trace(go.Scatter(x=gcn_x,\n",
    "                    mode='markers',\n",
    "                    name='GCN', marker =dict(size = 5)))\n",
    "\n",
    "fig.add_trace(go.Scatter(x=gat_x,\n",
    "                    mode='markers',\n",
    "                    name='GAT', marker =dict(size = 5)),)\n",
    "\n",
    "\n",
    "fig.add_trace(go.Scatter(x=sage_x,\n",
    "                    mode='markers',\n",
    "                    name='SAGE', marker =dict(size = 5)))\n",
    "fig.update_layout(plot_bgcolor=\"white\")\n",
    "fig.show()"
   ],
   "metadata": {
    "collapsed": false,
    "pycharm": {
     "name": "#%%\n"
    }
   }
  },
  {
   "cell_type": "code",
   "execution_count": null,
   "outputs": [],
   "source": [
    "df=pd.read_csv('../results/final_data.csv')\n",
    "df=df.drop(columns=['Unnamed: 0'])"
   ],
   "metadata": {
    "collapsed": false,
    "pycharm": {
     "name": "#%%\n"
    }
   }
  },
  {
   "cell_type": "code",
   "execution_count": null,
   "metadata": {
    "pycharm": {
     "name": "#%%\n"
    }
   },
   "outputs": [],
   "source": [
    "font = {'size' : 25}\n",
    "matplotlib.rc('font', **font)"
   ]
  },
  {
   "cell_type": "markdown",
   "metadata": {
    "pycharm": {
     "name": "#%% md\n"
    }
   },
   "source": [
    "### тут я считаю корреляцию между результатами с использованием разных функций потерь. Это относится к Results and Discussion 4 point начинающийся со слов \"pearson correlation\""
   ]
  },
  {
   "cell_type": "code",
   "execution_count": null,
   "metadata": {
    "pycharm": {
     "name": "#%%\n"
    }
   },
   "outputs": [],
   "source": [
    "from scipy.stats import kendalltau as Kcorr\n",
    "from scipy.stats import pearsonr as Pcorr"
   ]
  },
  {
   "cell_type": "code",
   "execution_count": null,
   "metadata": {
    "pycharm": {
     "name": "#%%\n"
    }
   },
   "outputs": [],
   "source": [
    "\n",
    "df=pd.read_csv('final_data.csv')\n",
    "df=df.drop(columns=['Unnamed: 0'])\n",
    "\n",
    "losses = list(dict(collections.Counter(df['loss'])).keys())\n",
    "\n",
    "su=0\n",
    "ff=0\n",
    "for i,loss1 in enumerate(losses):\n",
    "    for loss2 in losses[i+1:]:\n",
    "       # print(loss1,loss2)\n",
    "        su+=1\n",
    "        x=df[(df['loss']==loss1) & (df['conv'] == 'GCN' )]['test acc micro']\n",
    "        y=df[(df['loss']==loss2) & (df['conv'] == 'GCN' )]['test acc micro']\n",
    "        if Pcorr(x,y)[0]<0.98:\n",
    "            ff+=1   \n",
    "print(ff,su)\n"
   ]
  },
  {
   "cell_type": "markdown",
   "metadata": {
    "pycharm": {
     "name": "#%% md\n"
    }
   },
   "source": [
    "# COMPARISON OF DENSITY OF BENCHMARK SPACE - figure 2"
   ]
  },
  {
   "cell_type": "code",
   "execution_count": null,
   "metadata": {
    "pycharm": {
     "name": "#%%\n"
    }
   },
   "outputs": [],
   "source": [
    "df_2 = pd.read_excel('benchmark_space_ideal.xlsx')"
   ]
  },
  {
   "cell_type": "code",
   "execution_count": null,
   "metadata": {
    "pycharm": {
     "name": "#%%\n"
    }
   },
   "outputs": [],
   "source": [
    "import pandas as pd\n",
    "import collections\n",
    "df=pd.read_csv('final_data.csv')\n",
    "df=df.drop(columns=['Unnamed: 0'])"
   ]
  },
  {
   "cell_type": "code",
   "execution_count": null,
   "metadata": {
    "pycharm": {
     "name": "#%%\n"
    }
   },
   "outputs": [],
   "source": [
    "font = {'size' : 20}\n",
    "matplotlib.rc('font', **font)"
   ]
  },
  {
   "cell_type": "code",
   "execution_count": null,
   "metadata": {
    "pycharm": {
     "name": "#%%\n"
    }
   },
   "outputs": [],
   "source": [
    "fig2=px.parallel_coordinates(df,dimensions=['label assortativity', 'feature assortativity', 'cluster coefficient', 'average shortest path', 'average degree'])\n",
    "fig2.update_layout(\n",
    "    font=dict(\n",
    "        size=22,  # Set the font size here\n",
    "        color = 'black'\n",
    "    )\n",
    ")\n",
    "\n",
    "fig2.show()"
   ]
  },
  {
   "cell_type": "code",
   "execution_count": null,
   "metadata": {
    "pycharm": {
     "name": "#%%\n"
    }
   },
   "outputs": [],
   "source": [
    "fig2=px.parallel_coordinates(df_2,dimensions=['label assortativity', 'feature assortativity', 'cluster coefficient', 'average shortest path', 'average degree'])\n",
    "fig2.update_layout(\n",
    "    font=dict(\n",
    "        size=22,  # Set the font size here\n",
    "        color = 'black'\n",
    "    )\n",
    ")\n",
    "\n",
    "fig2.show()"
   ]
  },
  {
   "cell_type": "markdown",
   "metadata": {
    "pycharm": {
     "name": "#%% md\n"
    }
   },
   "source": [
    "# heatmaps - рисунок три "
   ]
  },
  {
   "cell_type": "code",
   "execution_count": null,
   "metadata": {
    "pycharm": {
     "name": "#%%\n"
    }
   },
   "outputs": [],
   "source": [
    "df=pd.read_csv('final_data.csv')\n",
    "df=df.drop(columns=['Unnamed: 0'])\n",
    "\n",
    "df_analysis = df.groupby(['group','label assortativity']).mean()['test acc micro']\n",
    "df_analysis = df_analysis.unstack('label assortativity')\n",
    "df_analysis['newlevel'] = 'label assortativity'\n",
    "df_analysis=df_analysis.set_index('newlevel', append=True).unstack('newlevel')\n",
    "\n",
    "for attr in attrs:\n",
    "    df_1 = df.groupby(['group',attr]).mean()['test acc micro']\n",
    "    df_1 = df_1.unstack(attr)\n",
    "    df_1['newlevel'] = attr\n",
    "    df_1 = df_1.set_index('newlevel', append=True).unstack('newlevel')\n",
    "    \n",
    "    df_analysis = pd.merge(df_analysis,df_1,on=['group'],how='left')\n"
   ]
  },
  {
   "cell_type": "code",
   "execution_count": null,
   "metadata": {
    "pycharm": {
     "name": "#%%\n"
    },
    "scrolled": true
   },
   "outputs": [],
   "source": [
    "for attr in ['label assortativity']+attrs:\n",
    "    df_1 = df.groupby(['group',attr]).mean()['test acc macro']\n",
    "    df_1 = df_1.unstack(attr)\n",
    "    sns.heatmap(df_1,cmap='GnBu')\n",
    "    plt.title('macro')\n",
    "    plt.show()"
   ]
  },
  {
   "cell_type": "markdown",
   "metadata": {
    "pycharm": {
     "name": "#%% md\n"
    }
   },
   "source": [
    "# Global Ranking (таблицы из апендикса)"
   ]
  },
  {
   "cell_type": "code",
   "execution_count": null,
   "metadata": {
    "pycharm": {
     "name": "#%%\n"
    }
   },
   "outputs": [],
   "source": [
    "df_analysis = df.groupby(['group','loss','label assortativity']).std()['test acc micro']\n",
    "\n",
    "df_analysis = df_analysis.unstack('label assortativity')\n",
    "df_analysis['newlevel'] = 'label assortativity'\n",
    "df_analysis=df_analysis.set_index('newlevel', append=True).unstack('newlevel')\n",
    "\n",
    "for attr in attrs[1:]:\n",
    "    df_1 = df.groupby(['group','loss',attr]).std()['test acc micro']\n",
    "    df_1 = df_1.unstack(attr)\n",
    "    df_1['newlevel'] = attr\n",
    "    df_1 = df_1.set_index('newlevel', append=True).unstack('newlevel')\n",
    "    \n",
    "    df_analysis = pd.merge(df_analysis,df_1,on=['group','loss'],how='left')\n",
    "\n",
    "df_analysis=df_analysis.round(decimals=2)\n",
    "df_analysis"
   ]
  },
  {
   "cell_type": "code",
   "execution_count": null,
   "metadata": {
    "pycharm": {
     "name": "#%%\n"
    }
   },
   "outputs": [],
   "source": [
    "df_analysis = df.groupby(['group','loss','label assortativity']).mean()['test acc micro']\n",
    "\n",
    "df_analysis = df_analysis.unstack('label assortativity')\n",
    "df_analysis['newlevel'] = 'label assortativity'\n",
    "df_analysis=df_analysis.set_index('newlevel', append=True).unstack('newlevel')\n",
    "\n",
    "for attr in attrs[1:]:\n",
    "    df_1 = df.groupby(['group','loss',attr]).mean()['test acc micro']\n",
    "    df_1 = df_1.unstack(attr)\n",
    "    df_1['newlevel'] = attr\n",
    "    df_1 = df_1.set_index('newlevel', append=True).unstack('newlevel')\n",
    "    \n",
    "    df_analysis = pd.merge(df_analysis,df_1,on=['group','loss'],how='left')\n",
    "\n",
    "df_analysis=df_analysis.round(decimals=2)\n",
    "df_analysis"
   ]
  },
  {
   "cell_type": "markdown",
   "metadata": {
    "pycharm": {
     "name": "#%% md\n"
    }
   },
   "source": [
    "# la=0.1"
   ]
  },
  {
   "cell_type": "code",
   "execution_count": null,
   "metadata": {
    "pycharm": {
     "name": "#%%\n"
    }
   },
   "outputs": [],
   "source": [
    "df_analysis = df[(df['label assortativity']==0.1) ]\n",
    "\n",
    "df_analysis = df_analysis.groupby(['group','loss','feature assortativity']).mean()['test acc micro']\n",
    "df_analysis = df_analysis.unstack('feature assortativity')\n",
    "df_analysis['newlevel'] = 'feature assortativity'\n",
    "df_analysis=df_analysis.set_index('newlevel', append=True).unstack('newlevel')\n",
    "\n",
    "for attr in attrs[2:]:\n",
    "    df_1 =  df[(df['label assortativity']==0.1) ].groupby(['group','loss',attr]).mean()['test acc micro']\n",
    "    df_1 = df_1.unstack(attr)\n",
    "    df_1['newlevel'] = attr\n",
    "    df_1 = df_1.set_index('newlevel', append=True).unstack('newlevel')\n",
    "    \n",
    "    df_analysis = pd.merge(df_analysis,df_1,on=['group','loss'],how='left')\n",
    "\n",
    "df_analysis=df_analysis.round(decimals=2)\n",
    "df_analysis"
   ]
  },
  {
   "cell_type": "code",
   "execution_count": null,
   "metadata": {
    "pycharm": {
     "name": "#%%\n"
    }
   },
   "outputs": [],
   "source": [
    "df_analysis = df[(df['label assortativity']==0.1)]\n",
    "\n",
    "df_analysis = df_analysis.groupby(['group','loss','feature assortativity']).std()['test acc micro']\n",
    "df_analysis = df_analysis.unstack('feature assortativity')\n",
    "df_analysis['newlevel'] = 'feature assortativity'\n",
    "df_analysis=df_analysis.set_index('newlevel', append=True).unstack('newlevel')\n",
    "\n",
    "for attr in attrs[2:]:\n",
    "    df_1 =  df[(df['label assortativity']==0.1) ].groupby(['group','loss',attr]).std()['test acc micro']\n",
    "    df_1 = df_1.unstack(attr)\n",
    "    df_1['newlevel'] = attr\n",
    "    df_1 = df_1.set_index('newlevel', append=True).unstack('newlevel')\n",
    "    \n",
    "    df_analysis = pd.merge(df_analysis,df_1,on=['group','loss'],how='left')\n",
    "\n",
    "df_analysis=df_analysis.round(decimals=2)\n",
    "df_analysis"
   ]
  },
  {
   "cell_type": "markdown",
   "metadata": {
    "pycharm": {
     "name": "#%% md\n"
    }
   },
   "source": [
    "# la=0.5"
   ]
  },
  {
   "cell_type": "code",
   "execution_count": null,
   "metadata": {
    "pycharm": {
     "name": "#%%\n"
    }
   },
   "outputs": [],
   "source": [
    "df_analysis = df[(df['label assortativity']==0.5)]\n",
    "df_analysis = df_analysis.groupby(['group','loss','feature assortativity']).mean()['test acc micro']\n",
    "df_analysis = df_analysis.unstack('feature assortativity')\n",
    "df_analysis['newlevel'] = 'feature assortativity'\n",
    "df_analysis=df_analysis.set_index('newlevel', append=True).unstack('newlevel')\n",
    "\n",
    "for attr in attrs[2:]:\n",
    "    df_1 = df[(df['label assortativity']==0.5)].groupby(['group','loss',attr]).mean()['test acc micro']\n",
    "    df_1 = df_1.unstack(attr)\n",
    "    df_1['newlevel'] = attr\n",
    "    df_1 = df_1.set_index('newlevel', append=True).unstack('newlevel')\n",
    "    \n",
    "    df_analysis = pd.merge(df_analysis,df_1,on=['group','loss'],how='left')\n",
    "df_analysis=df_analysis.round(decimals=2)\n",
    "df_analysis"
   ]
  },
  {
   "cell_type": "code",
   "execution_count": null,
   "metadata": {
    "pycharm": {
     "name": "#%%\n"
    }
   },
   "outputs": [],
   "source": [
    "df_analysis = df[(df['label assortativity']==0.5)]\n",
    "df_analysis = df_analysis.groupby(['group','loss','feature assortativity']).std()['test acc micro']\n",
    "df_analysis = df_analysis.unstack('feature assortativity')\n",
    "df_analysis['newlevel'] = 'feature assortativity'\n",
    "df_analysis=df_analysis.set_index('newlevel', append=True).unstack('newlevel')\n",
    "\n",
    "for attr in attrs[2:]:\n",
    "    df_1 = df[(df['label assortativity']==0.5) ].groupby(['group','loss',attr]).std()['test acc micro']\n",
    "    df_1 = df_1.unstack(attr)\n",
    "    df_1['newlevel'] = attr\n",
    "    df_1 = df_1.set_index('newlevel', append=True).unstack('newlevel')\n",
    "    \n",
    "    df_analysis = pd.merge(df_analysis,df_1,on=['group','loss'],how='left')\n",
    "df_analysis=df_analysis.round(decimals=2)\n",
    "df_analysis"
   ]
  },
  {
   "cell_type": "markdown",
   "metadata": {
    "pycharm": {
     "name": "#%% md\n"
    }
   },
   "source": [
    "# la=0.9"
   ]
  },
  {
   "cell_type": "code",
   "execution_count": null,
   "metadata": {
    "pycharm": {
     "name": "#%%\n"
    }
   },
   "outputs": [],
   "source": [
    "df_analysis = df[(df['label assortativity']==0.9) ]\n",
    "df_analysis = df_analysis.groupby(['group','loss','feature assortativity']).mean()['test acc micro']\n",
    "df_analysis = df_analysis.unstack('feature assortativity')\n",
    "df_analysis['newlevel'] = 'feature assortativity'\n",
    "df_analysis=df_analysis.set_index('newlevel', append=True).unstack('newlevel')\n",
    "\n",
    "for attr in attrs[2:]:\n",
    "    df_1 = df[(df['label assortativity']==0.9)].groupby(['group','loss',attr]).mean()['test acc micro']\n",
    "    df_1 = df_1.unstack(attr)\n",
    "    df_1['newlevel'] = attr\n",
    "    df_1 = df_1.set_index('newlevel', append=True).unstack('newlevel')\n",
    "    \n",
    "    df_analysis = pd.merge(df_analysis,df_1,on=['group','loss'],how='left')\n",
    "df_analysis=df_analysis.round(decimals=2)\n",
    "df_analysis.transpose()"
   ]
  },
  {
   "cell_type": "code",
   "execution_count": null,
   "metadata": {
    "pycharm": {
     "name": "#%%\n"
    }
   },
   "outputs": [],
   "source": [
    "df_analysis = df[(df['label assortativity']==0.9) ]\n",
    "df_analysis = df_analysis.groupby(['group','loss','feature assortativity']).std()['test acc micro']\n",
    "df_analysis = df_analysis.unstack('feature assortativity')\n",
    "df_analysis['newlevel'] = 'feature assortativity'\n",
    "df_analysis=df_analysis.set_index('newlevel', append=True).unstack('newlevel')\n",
    "\n",
    "for attr in attrs[2:]:\n",
    "    df_1 = df[(df['label assortativity']==0.9) ].groupby(['group','loss',attr]).std()['test acc micro']\n",
    "    df_1 = df_1.unstack(attr)\n",
    "    df_1['newlevel'] = attr\n",
    "    df_1 = df_1.set_index('newlevel', append=True).unstack('newlevel')\n",
    "    \n",
    "    df_analysis = pd.merge(df_analysis,df_1,on=['group','loss'],how='left')\n",
    "df_analysis=df_analysis.round(decimals=2)\n",
    "df_analysis"
   ]
  },
  {
   "cell_type": "markdown",
   "metadata": {
    "pycharm": {
     "name": "#%% md\n"
    }
   },
   "source": [
    "# Global ranking (таблица 4)"
   ]
  },
  {
   "cell_type": "code",
   "execution_count": null,
   "metadata": {
    "pycharm": {
     "name": "#%%\n"
    }
   },
   "outputs": [],
   "source": [
    "import pandas as pd\n",
    "import collections\n",
    "df=pd.read_csv('../results/final_data.csv')\n",
    "df=df.drop(columns=['Unnamed: 0'])"
   ]
  },
  {
   "cell_type": "code",
   "execution_count": null,
   "outputs": [],
   "source": [
    "df_2=pd.read_csv('../results/classification_on_features.csv')\n",
    "df_2=df_2.drop(columns=['Unnamed: 0'])"
   ],
   "metadata": {
    "collapsed": false,
    "pycharm": {
     "name": "#%%\n"
    }
   }
  },
  {
   "cell_type": "code",
   "execution_count": null,
   "outputs": [],
   "source": [
    "df_2['dataset']=df_2.apply(lambda x: str(x['la'])+str(x['fa'])+str(x['cl'])+str(x['asp'])+str(x['ad']), axis = 1)"
   ],
   "metadata": {
    "collapsed": false,
    "pycharm": {
     "name": "#%%\n"
    }
   }
  },
  {
   "cell_type": "code",
   "execution_count": null,
   "outputs": [],
   "source": [
    "df=df.drop(columns = ['label assortativity','feature assortativity','cluster coefficient','average shortest path','average degree','group'])"
   ],
   "metadata": {
    "collapsed": false,
    "pycharm": {
     "name": "#%%\n"
    }
   }
  },
  {
   "cell_type": "code",
   "execution_count": null,
   "outputs": [],
   "source": [
    "df_2 = df_2.drop(columns=['la','cl','fa','asp','ad'])"
   ],
   "metadata": {
    "collapsed": false,
    "pycharm": {
     "name": "#%%\n"
    }
   }
  },
  {
   "cell_type": "code",
   "execution_count": null,
   "outputs": [],
   "source": [
    "df"
   ],
   "metadata": {
    "collapsed": false,
    "pycharm": {
     "name": "#%%\n"
    }
   }
  },
  {
   "cell_type": "code",
   "execution_count": null,
   "outputs": [],
   "source": [
    "df.apply(lambda x: (x[2][:3]))"
   ],
   "metadata": {
    "collapsed": false,
    "pycharm": {
     "name": "#%%\n"
    }
   }
  },
  {
   "cell_type": "code",
   "execution_count": null,
   "metadata": {
    "pycharm": {
     "name": "#%%\n"
    }
   },
   "outputs": [],
   "source": [
    "df_groupby=[['conv','dataset','test acc micro']].groupby(['conv','dataset'],as_index=False).max()\n",
    "df_merge = pd.merge(df_groupby,df,on=['conv','dataset','test acc micro'],how='left')\n",
    "list_of_dicts=[]\n",
    "\n",
    "for conv in ['GCN','GAT','SAGE']:\n",
    "    orders = collections.Counter(df_merge[df_merge['conv']==conv]['loss'])\n",
    "    list_of_dicts.append(orders)\n",
    "new_dict=list_of_dicts[0]+list_of_dicts[1]+list_of_dicts[2]\n",
    "\n",
    "global_rank=(sorted(new_dict.items(), key=lambda x: x[1], reverse=True))\n",
    "rank_GCN=(sorted(list_of_dicts[0].items(), key=lambda x: x[1], reverse=True))\n",
    "rank_GAT=(sorted(list_of_dicts[1].items(), key=lambda x: x[1], reverse=True))\n",
    "rank_SAGE=(sorted(list_of_dicts[2].items(), key=lambda x: x[1], reverse=True))\n",
    "print(rank_GCN,global_rank)"
   ]
  },
  {
   "cell_type": "code",
   "execution_count": null,
   "metadata": {
    "pycharm": {
     "name": "#%%\n"
    }
   },
   "outputs": [],
   "source": [
    "dict(rank_GCN)"
   ]
  },
  {
   "cell_type": "markdown",
   "metadata": {
    "pycharm": {
     "name": "#%% md\n"
    }
   },
   "source": [
    "# Line Graphs рисунок 4"
   ]
  },
  {
   "cell_type": "code",
   "execution_count": null,
   "metadata": {
    "pycharm": {
     "name": "#%%\n"
    }
   },
   "outputs": [],
   "source": [
    "\n",
    "df=pd.read_csv('final_data.csv')\n",
    "df=df.drop(columns=['Unnamed: 0'])"
   ]
  },
  {
   "cell_type": "code",
   "execution_count": null,
   "metadata": {
    "pycharm": {
     "name": "#%%\n"
    },
    "scrolled": true
   },
   "outputs": [],
   "source": [
    "\n",
    "for feat in attrs:\n",
    "    fig = plt.figure()\n",
    "    ax = plt.subplot(111)\n",
    "    for conv in ['GCN','GAT','SAGE']:\n",
    "        plt.plot( list(df[ (df['conv'] == conv)].groupby(feat).mean().index),  df[(df['conv']==conv)].groupby(feat).mean()['test acc micro'],label=conv,marker='*', linewidth = 1)\n",
    "    ax.grid(False)\n",
    "    ax.set_ylim([0.05,0.75])\n",
    "    ax.legend(bbox_to_anchor=(1.1, 0.9))\n",
    "\n",
    "    plt.title(feat)\n",
    "    plt.show()\n"
   ]
  },
  {
   "cell_type": "markdown",
   "metadata": {
    "pycharm": {
     "name": "#%% md\n"
    }
   },
   "source": [
    "# boxplots (только для GCN) рисунки 6-8"
   ]
  },
  {
   "cell_type": "code",
   "execution_count": null,
   "metadata": {
    "pycharm": {
     "name": "#%%\n"
    }
   },
   "outputs": [],
   "source": [
    "#не все ф.п. рассматриваем\n",
    "df=pd.read_csv('final_data.csv')\n",
    "df=df.drop(columns=['Unnamed: 0'])\n",
    "df_boxplots = df[(df['loss' ]=='VERSE_Adj')|(df['loss']=='HOPE_RPR') | (df['loss']=='LapEigen') | (df['loss']=='VERSE_SR') | (df['loss' ]=='DeepWalk')| (df['loss' ]=='Force2Vec')]\n",
    "features=['label assortativity','feature assortativity','cluster coefficient','average shortest path','average degree']"
   ]
  },
  {
   "cell_type": "markdown",
   "metadata": {
    "pycharm": {
     "name": "#%% md\n"
    }
   },
   "source": [
    "### рисунок 5"
   ]
  },
  {
   "cell_type": "code",
   "execution_count": null,
   "metadata": {
    "pycharm": {
     "name": "#%%\n"
    }
   },
   "outputs": [],
   "source": [
    "font = {'size' : 25}\n",
    "matplotlib.rc('font', **font)\n",
    "\n",
    "my_pal = {\"HOPE_RPR\": \"steelblue\", \"LapEigen\": \"darkorange\", \"DeepWalk\": \"darkseagreen\",\"VERSE_Adj\":\"mediumpurple\",\"VERSE_SR\":\"indianred\",\"Force2Vec\":'darkgray'}\n",
    "for attr in attrs: \n",
    "        sns.boxplot(data=df_boxplots[(df_boxplots['conv']=='GCN')], x=attr,y=\"test acc micro\" , width=0.6, hue=\"loss\",palette=my_pal,fliersize=2)\n",
    "        #fig.update_traces(quartilemethod=\"exclusive\") # or \"inclusive\", or \"linear\" by default\n",
    "        plt.legend(bbox_to_anchor=(1.02, 0.5), loc='center left', borderaxespad=0)\n",
    "        plt.show() "
   ]
  },
  {
   "cell_type": "markdown",
   "metadata": {
    "pycharm": {
     "name": "#%% md\n"
    }
   },
   "source": [
    "### для label assortativity 0.1 рисунок 6"
   ]
  },
  {
   "cell_type": "code",
   "execution_count": null,
   "metadata": {
    "scrolled": true,
    "pycharm": {
     "name": "#%%\n"
    }
   },
   "outputs": [],
   "source": [
    "font = {'size' : 25}\n",
    "matplotlib.rc('font', **font)\n",
    "\n",
    "my_pal = {\"HOPE_RPR\": \"steelblue\", \"LapEigen\": \"darkorange\", \"DeepWalk\": \"darkseagreen\",\"VERSE_Adj\":\"mediumpurple\",\"VERSE_SR\":\"indianred\",\"Force2Vec\":'darkgray'}\n",
    "for attr in attrs: \n",
    "        sns.boxplot(data=df_boxplots[(df_boxplots['label assortativity']==0.1)&(df_boxplots['conv']=='GCN')], x=attr,y=\"test acc micro\" , width=0.6, hue=\"loss\",palette=my_pal,fliersize=2)\n",
    "        #fig.update_traces(quartilemethod=\"exclusive\") # or \"inclusive\", or \"linear\" by default\n",
    "        plt.legend(bbox_to_anchor=(1.02, 0.5), loc='center left', borderaxespad=0)\n",
    "        plt.show() "
   ]
  },
  {
   "cell_type": "code",
   "execution_count": null,
   "metadata": {
    "pycharm": {
     "name": "#%%\n"
    }
   },
   "outputs": [],
   "source": []
  },
  {
   "cell_type": "markdown",
   "metadata": {
    "pycharm": {
     "name": "#%% md\n"
    }
   },
   "source": [
    "### для label assortativity = 0.5"
   ]
  },
  {
   "cell_type": "code",
   "execution_count": null,
   "metadata": {
    "pycharm": {
     "name": "#%%\n"
    }
   },
   "outputs": [],
   "source": [
    "for attr in attrs: \n",
    "        sns.boxplot(data=df_boxplots[(df_boxplots['label assortativity']==0.5)&(df_boxplots['conv']=='GCN')], x=attr,y=\"test acc micro\" , width=0.6, hue=\"loss\",palette=my_pal,fliersize=2)\n",
    "        #fig.update_traces(quartilemethod=\"exclusive\") # or \"inclusive\", or \"linear\" by default\n",
    "        plt.legend(bbox_to_anchor=(1.02, 0.5), loc='center left', borderaxespad=0)\n",
    "        plt.show() "
   ]
  },
  {
   "cell_type": "markdown",
   "metadata": {
    "pycharm": {
     "name": "#%% md\n"
    }
   },
   "source": [
    "### для label assortativity = 0.9"
   ]
  },
  {
   "cell_type": "code",
   "execution_count": null,
   "metadata": {
    "pycharm": {
     "name": "#%%\n"
    }
   },
   "outputs": [],
   "source": [
    "for attr in attrs: \n",
    "        sns.boxplot(data=df_boxplots[(df_boxplots['label assortativity']==0.9)&(df_boxplots['conv']=='GCN')], x=attr,y=\"test acc micro\" , width=0.6, hue=\"loss\",palette=my_pal,fliersize=2)\n",
    "        #fig.update_traces(quartilemethod=\"exclusive\") # or \"inclusive\", or \"linear\" by default\n",
    "        plt.legend(bbox_to_anchor=(1.02, 0.5), loc='center left', borderaxespad=0)\n",
    "        plt.show() "
   ]
  },
  {
   "cell_type": "code",
   "execution_count": null,
   "metadata": {
    "pycharm": {
     "name": "#%%\n"
    }
   },
   "outputs": [],
   "source": []
  },
  {
   "cell_type": "code",
   "execution_count": null,
   "metadata": {
    "pycharm": {
     "name": "#%%\n"
    }
   },
   "outputs": [],
   "source": []
  },
  {
   "cell_type": "code",
   "execution_count": null,
   "metadata": {
    "pycharm": {
     "name": "#%%\n"
    }
   },
   "outputs": [],
   "source": []
  },
  {
   "cell_type": "markdown",
   "metadata": {
    "pycharm": {
     "name": "#%% md\n"
    }
   },
   "source": [
    "# Statistically significant difference - discussion and results 2 point начинающийся со слов \"In one of the benchmarking representation learning papers \""
   ]
  },
  {
   "cell_type": "code",
   "execution_count": null,
   "metadata": {
    "pycharm": {
     "name": "#%%\n"
    }
   },
   "outputs": [],
   "source": [
    "#ANOVA\n",
    "losses=list(dict(collections.Counter(df['loss'])).keys())\n",
    "import scipy.stats as stats\n",
    "to_test = []\n",
    "for loss in losses:\n",
    "    to_test.append(df[df['loss']==loss]['test acc micro'])\n",
    "\n",
    "fvalue, pvalue = stats.f_oneway(to_test[0],to_test[1],to_test[2],to_test[3],to_test[4],to_test[5],to_test[6],to_test[7],to_test[8],to_test[9],to_test[10],to_test[11],to_test[12])\n",
    "#fvalue, pvalue = stats.f_oneway(df[df['loss']=='HOPE_Katz']['test acc micro'],df[df['loss']=='HOPE_CN']['test acc micro'], df[df['loss']=='HOPE_RPR']['test acc micro'], df[df['loss']=='LapEigen']['test acc micro'],df[df['loss']=='LINE']['test acc micro'],df[df['loss']=='VERSE_PPR']['test acc micro'], df[df['loss']=='GraphFactorization']['test acc micro'], df[df['loss']=='HOPE_AA']['test acc micro'], df[df['loss']=='Node2Vec']['test acc micro'], df[df['loss']=='VERSE_Adj']['test acc micro'],df[df['loss']=='DeepWalk']['test acc micro'],df[df['loss']=='APP']['test acc micro'],df[df['loss']=='VERSE_SR']['test acc micro'])\n"
   ]
  },
  {
   "cell_type": "code",
   "execution_count": null,
   "metadata": {
    "pycharm": {
     "name": "#%%\n"
    }
   },
   "outputs": [],
   "source": [
    "#внутри группы GF\n",
    "fvalue, pvalue = stats.f_oneway(to_test[0],to_test[1],to_test[2],to_test[6],to_test[7])\n",
    "print(pvalue<0.05)"
   ]
  },
  {
   "cell_type": "code",
   "execution_count": null,
   "metadata": {
    "pycharm": {
     "name": "#%%\n"
    }
   },
   "outputs": [],
   "source": [
    "#внутри группы RandomWalks\n",
    "fvalue, pvalue = stats.f_oneway(to_test[1],to_test[8])\n",
    "print(pvalue<0.05)"
   ]
  },
  {
   "cell_type": "code",
   "execution_count": null,
   "metadata": {
    "pycharm": {
     "name": "#%%\n"
    }
   },
   "outputs": [],
   "source": [
    "#внутри группы matrix sim\n",
    "fvalue, pvalue = stats.f_oneway(to_test[4],to_test[5],to_test[9],to_test[11],to_test[12])\n",
    "print(pvalue<0.05)"
   ]
  },
  {
   "cell_type": "code",
   "execution_count": null,
   "metadata": {
    "pycharm": {
     "name": "#%%\n"
    }
   },
   "outputs": [],
   "source": [
    "import numpy as np\n",
    "from scipy.stats import ttest_ind\n",
    "\n",
    "losses_2=['LINE','VERSE_SR','VERSE_PPR','VERSE_Adj','APP']\n",
    "for i,loss1 in enumerate(losses_2):\n",
    "    for loss2 in losses_2[i+1:]:\n",
    "       # print(loss1,loss2)\n",
    "       # print(loss)\n",
    "        v1 = df[df['loss']==loss1]['test acc micro']\n",
    "        v2 = df[df['loss']==loss2]['test acc micro']\n",
    "\n",
    "        res = ttest_ind(v1, v2)\n",
    "\n",
    "        if (res.pvalue <= 0.05):\n",
    "            print(loss1,loss2)"
   ]
  },
  {
   "cell_type": "markdown",
   "metadata": {
    "pycharm": {
     "name": "#%% md\n"
    }
   },
   "source": [
    "# ВЫБИВАЕТСЯ ТОЛЬКО VERSE ADJ"
   ]
  },
  {
   "cell_type": "markdown",
   "metadata": {
    "pycharm": {
     "name": "#%% md\n"
    }
   },
   "source": [
    "## ниже идет то что я писала в главе \"comparison with real graphs\" в пункте 3. \n",
    "## если std маленький и max Тоже не очень большой, значит результат плохой независимо от ф.п. а просто для таких данных плохой"
   ]
  },
  {
   "cell_type": "code",
   "execution_count": null,
   "metadata": {
    "pycharm": {
     "name": "#%%\n"
    }
   },
   "outputs": [],
   "source": [
    "\n",
    "df=pd.read_csv('data_analysis_realdata.csv')\n",
    "df=df.drop(columns=['Unnamed: 0'])\n",
    "df\n",
    "\n",
    "(df[(df['dataset']=='Cora') & (df['conv']=='GCN')]['test acc micro'].max(),df[(df['dataset']=='Cora') & (df['conv']=='GCN')]['test acc micro'].std())"
   ]
  },
  {
   "cell_type": "code",
   "execution_count": null,
   "metadata": {
    "pycharm": {
     "name": "#%%\n"
    }
   },
   "outputs": [],
   "source": [
    "(df[(df['dataset']=='Citeseer') & (df['conv']=='GCN')]['test acc micro'].max(),df[(df['dataset']=='Citeseer') & (df['conv']=='GCN')]['test acc micro'].std())"
   ]
  },
  {
   "cell_type": "code",
   "execution_count": null,
   "metadata": {
    "pycharm": {
     "name": "#%%\n"
    }
   },
   "outputs": [],
   "source": [
    "(df[(df['dataset']=='Cornell') & (df['conv']=='GCN')]['test acc micro'].max(),df[(df['dataset']=='Cornell') & (df['conv']=='GCN')]['test acc micro'].std())"
   ]
  },
  {
   "cell_type": "code",
   "execution_count": null,
   "metadata": {
    "pycharm": {
     "name": "#%%\n"
    }
   },
   "outputs": [],
   "source": [
    "(df[(df['dataset']=='chameleon') & (df['conv']=='GCN')]['test acc micro'].max(), df[(df['dataset']=='chameleon') & (df['conv']=='GCN')]['test acc micro'].std())"
   ]
  },
  {
   "cell_type": "code",
   "execution_count": null,
   "metadata": {
    "pycharm": {
     "name": "#%%\n"
    }
   },
   "outputs": [],
   "source": [
    "(df[(df['dataset']=='Wisconsin') & (df['conv']=='GCN') ]['test acc micro'].max(),df[(df['dataset']=='Wisconsin') & (df['conv']=='GCN') ]['test acc micro'].std())"
   ]
  },
  {
   "cell_type": "code",
   "execution_count": null,
   "metadata": {
    "pycharm": {
     "name": "#%%\n"
    }
   },
   "outputs": [],
   "source": [
    "(df[(df['dataset']=='Texas') & (df['conv']=='GCN') ]['test acc micro'].max() ,df[(df['dataset']=='Texas') & (df['conv']=='GCN') ]['test acc micro'].std())"
   ]
  },
  {
   "cell_type": "markdown",
   "source": [
    "# на фичах"
   ],
   "metadata": {
    "collapsed": false,
    "pycharm": {
     "name": "#%% md\n"
    }
   }
  },
  {
   "cell_type": "code",
   "execution_count": null,
   "outputs": [],
   "source": [
    "df=pd.read_csv('../results/final_data_with_features.csv')\n",
    "df=df.drop(columns=['Unnamed: 0'])\n",
    "attrs=['fa','la', 'cl', 'asp', 'ad']"
   ],
   "metadata": {
    "collapsed": false,
    "pycharm": {
     "name": "#%%\n"
    }
   }
  },
  {
   "cell_type": "code",
   "execution_count": null,
   "outputs": [],
   "source": [
    "df"
   ],
   "metadata": {
    "collapsed": false,
    "pycharm": {
     "name": "#%%\n"
    }
   }
  },
  {
   "cell_type": "code",
   "execution_count": null,
   "outputs": [],
   "source": [
    "losses"
   ],
   "metadata": {
    "collapsed": false,
    "pycharm": {
     "name": "#%%\n"
    }
   }
  },
  {
   "cell_type": "code",
   "execution_count": null,
   "outputs": [],
   "source": [
    "df_analysis = df[(df['fa']==0.5)]\n",
    "df_2 = df_analysis.groupby(['fa']).mean()['test acc micro']\n",
    "print(df_2)\n",
    "\n",
    "for attr in ['fa','la']:\n",
    "    df_1 =  df[(df['la']==0.5)].groupby([attr]).mean()['test acc micro']\n",
    "    #df_1 = df_1.unstack(attr)\n",
    "    #df_1['newlevel'] = attr\n",
    "    #df_1 = df_1.set_index('newlevel', append=True).unstack('newlevel')\n",
    "    print(df_1)\n",
    "   # df_analysis = pd.merge(df_analysis,df_1,how='left')\n",
    "\n",
    "df_analysis=df_analysis.round(decimals=2)\n",
    "#df_analysis"
   ],
   "metadata": {
    "collapsed": false,
    "pycharm": {
     "name": "#%%\n"
    }
   }
  },
  {
   "cell_type": "code",
   "execution_count": null,
   "outputs": [],
   "source": [
    "df_analysis = df[(df['la']==0.5)]\n",
    "df_2 = df_analysis.groupby(['fa']).std()['test acc micro']\n",
    "print(df_2)\n",
    "\n",
    "#df_analysis = df_analysis.unstack(['fa'])\n",
    "#df_analysis['newlevel'] = 'fa'\n",
    "\n",
    "#df_analysis=df_analysis.set_index('newlevel', append=True).unstack('newlevel')\n",
    "\n",
    "for attr in attrs[1:]:\n",
    "    df_1 =  df[(df['la']==0.5)].groupby([attr]).std()['test acc micro']\n",
    "    #df_1 = df_1.unstack(attr)\n",
    "    #df_1['newlevel'] = attr\n",
    "    #df_1 = df_1.set_index('newlevel', append=True).unstack('newlevel')\n",
    "    print(df_1)\n",
    "   # df_analysis = pd.merge(df_analysis,df_1,how='left')\n",
    "\n",
    "df_analysis=df_analysis.round(decimals=2)\n",
    "#df_analysis"
   ],
   "metadata": {
    "collapsed": false,
    "pycharm": {
     "name": "#%%\n"
    }
   }
  },
  {
   "cell_type": "code",
   "execution_count": null,
   "outputs": [],
   "source": [
    "df[(df['fa']==0.1) & (df['conv']=='GCN')].groupby(['loss']).mean().sort_values(by=['test acc micro'], ascending=False).index"
   ],
   "metadata": {
    "collapsed": false,
    "pycharm": {
     "name": "#%%\n"
    }
   }
  },
  {
   "cell_type": "code",
   "execution_count": null,
   "outputs": [],
   "source": [
    "df_5 = df[(df['la']==0.5) & (df['conv']=='GCN')].groupby(['loss','fa']).mean()['test acc micro']\n",
    "df_5 = df_5.unstack('fa')\n",
    "df_5=df_5.sort_values(by=[0.5], ascending=False)\n",
    "#df_55['newlevel'] = 'fa'\n",
    "#df_55 = df_55.set_index('newlevel', append=True).unstack('newlevel')\n",
    "df_5"
   ],
   "metadata": {
    "collapsed": false,
    "pycharm": {
     "name": "#%%\n"
    }
   }
  },
  {
   "cell_type": "code",
   "execution_count": null,
   "outputs": [],
   "source": [
    "losses = list(df_5.index)\n",
    "\n",
    "df_1 = df[(df['la']==0.1) & (df['conv']=='GCN')].groupby(['loss','fa']).mean()['test acc micro']\n",
    "df_1 = df_1.unstack('fa')\n",
    "df_1=df_1.reindex(losses,axis=0)\n",
    "\n",
    "df_9 = df[(df['la']==0.9) & (df['conv']=='GCN')].groupby(['loss','fa']).mean()['test acc micro']\n",
    "df_9 = df_9.unstack('fa')\n",
    "df_9=df_9.reindex(losses,axis=0)\n"
   ],
   "metadata": {
    "collapsed": false,
    "pycharm": {
     "name": "#%%\n"
    }
   }
  },
  {
   "cell_type": "code",
   "execution_count": null,
   "outputs": [],
   "source": [
    "df_1"
   ],
   "metadata": {
    "collapsed": false,
    "pycharm": {
     "name": "#%%\n"
    }
   }
  },
  {
   "cell_type": "code",
   "execution_count": null,
   "outputs": [],
   "source": [
    "normalized_df=(df_1-df_1.min())/(df_1.max()-df_1.min())"
   ],
   "metadata": {
    "collapsed": false,
    "pycharm": {
     "name": "#%%\n"
    }
   }
  },
  {
   "cell_type": "code",
   "execution_count": null,
   "outputs": [],
   "source": [
    "df_1=normalized_df"
   ],
   "metadata": {
    "collapsed": false,
    "pycharm": {
     "name": "#%%\n"
    }
   }
  },
  {
   "cell_type": "code",
   "execution_count": null,
   "outputs": [],
   "source": [
    "f,(ax1,ax2,ax3, axcb) = plt.subplots(1,4,\n",
    "            gridspec_kw={'width_ratios':[1,1,1,0.08]})\n",
    "\n",
    "ax1.get_shared_y_axes().join(ax2,ax3)\n",
    "g1=sns.heatmap(df_1,annot=True,vmin=0,vmax =0.9, cbar=False, ax = ax1)\n",
    "g1.set_ylabel('')\n",
    "g1.set_xlabel('feature assortativity')\n",
    "g1.set_title('label assortativity = 0.1',fontsize = 11)\n",
    "g2=sns.heatmap(df_5,annot=True,vmin=0,vmax =0.9, cbar=False, ax = ax2)\n",
    "g2.set_ylabel('')\n",
    "g2.set_xlabel('feature assortativity')\n",
    "g2.set_title('label assortativity = 0.5',fontsize = 11)\n",
    "g2.set_yticks([])\n",
    "g3=sns.heatmap(df_9,annot=True,vmin=0,vmax =0.9,cbar_ax=axcb, ax = ax3)\n",
    "g3.set_ylabel('')\n",
    "g3.set_xlabel('feature assortativity')\n",
    "g3.set_title('label assortativity = 0.9',fontsize = 11)\n",
    "g3.set_yticks([])\n",
    "sns.cubehelix_palette(start=2, rot=0, dark=0, light=.95, reverse=True, as_cmap=True)\n",
    "plt.show()\n",
    "\n",
    "#ax1.set_xlabel('feature assortativity')"
   ],
   "metadata": {
    "collapsed": false,
    "pycharm": {
     "name": "#%%\n"
    }
   }
  },
  {
   "cell_type": "code",
   "execution_count": null,
   "outputs": [],
   "source": [
    "font = {'size' : 12}\n",
    "matplotlib.rc('font', **font)"
   ],
   "metadata": {
    "collapsed": false,
    "pycharm": {
     "name": "#%%\n"
    }
   }
  },
  {
   "cell_type": "code",
   "execution_count": null,
   "outputs": [],
   "source": [],
   "metadata": {
    "collapsed": false,
    "pycharm": {
     "name": "#%%\n"
    }
   }
  }
 ],
 "metadata": {
  "kernelspec": {
   "name": "python3",
   "language": "python",
   "display_name": "Python 3 (ipykernel)"
  },
  "language_info": {
   "codemirror_mode": {
    "name": "ipython",
    "version": 3
   },
   "file_extension": ".py",
   "mimetype": "text/x-python",
   "name": "python",
   "nbconvert_exporter": "python",
   "pygments_lexer": "ipython3",
   "version": "3.9.0"
  }
 },
 "nbformat": 4,
 "nbformat_minor": 4
}